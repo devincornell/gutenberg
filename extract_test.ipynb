{
 "cells": [
  {
   "cell_type": "code",
   "execution_count": 18,
   "metadata": {},
   "outputs": [],
   "source": [
    "from glob import glob\n",
    "import os\n",
    "import zipfile\n",
    "import re"
   ]
  },
  {
   "cell_type": "code",
   "execution_count": 56,
   "metadata": {},
   "outputs": [
    {
     "data": {
      "text/plain": [
       "71493"
      ]
     },
     "execution_count": 56,
     "metadata": {},
     "output_type": "execute_result"
    }
   ],
   "source": [
    "fnames = glob('aleph.gutenberg.org/**/*.zip', recursive=True)\n",
    "fnames.remove('aleph.gutenberg.org/9/1/915/915.zip')\n",
    "len(fnames)"
   ]
  },
  {
   "cell_type": "code",
   "execution_count": 61,
   "metadata": {},
   "outputs": [
    {
     "name": "stdout",
     "output_type": "stream",
     "text": [
      "finished 1000 with 3 empty.\n",
      "finished 2000 with 10 empty.\n",
      "finished 3000 with 24 empty.\n",
      "finished 4000 with 43 empty.\n",
      "finished 5000 with 68 empty.\n",
      "finished 6000 with 111 empty.\n",
      "finished 7000 with 144 empty.\n",
      "finished 8000 with 150 empty.\n",
      "finished 9000 with 158 empty.\n",
      "finished 10000 with 167 empty.\n",
      "finished 11000 with 179 empty.\n",
      "finished 12000 with 185 empty.\n",
      "finished 13000 with 193 empty.\n",
      "finished 14000 with 202 empty.\n",
      "finished 15000 with 272 empty.\n",
      "finished 15000 with 273 empty.\n",
      "finished 16000 with 719 empty.\n",
      "finished 17000 with 719 empty.\n",
      "finished 18000 with 725 empty.\n",
      "finished 19000 with 726 empty.\n",
      "finished 20000 with 726 empty.\n",
      "finished 21000 with 730 empty.\n",
      "finished 22000 with 746 empty.\n",
      "finished 23000 with 767 empty.\n",
      "finished 24000 with 813 empty.\n",
      "finished 25000 with 819 empty.\n",
      "finished 26000 with 820 empty.\n",
      "finished 27000 with 853 empty.\n",
      "finished 28000 with 858 empty.\n",
      "finished 29000 with 871 empty.\n",
      "finished 30000 with 885 empty.\n",
      "finished 31000 with 895 empty.\n",
      "finished 32000 with 899 empty.\n",
      "finished 33000 with 912 empty.\n",
      "finished 34000 with 922 empty.\n",
      "finished 35000 with 933 empty.\n",
      "finished 36000 with 945 empty.\n",
      "finished 37000 with 947 empty.\n",
      "finished 38000 with 953 empty.\n",
      "finished 39000 with 959 empty.\n",
      "finished 40000 with 959 empty.\n",
      "finished 41000 with 960 empty.\n",
      "finished 42000 with 966 empty.\n",
      "finished 43000 with 968 empty.\n",
      "finished 44000 with 978 empty.\n",
      "finished 44000 with 979 empty.\n",
      "finished 45000 with 988 empty.\n",
      "finished 46000 with 999 empty.\n",
      "finished 47000 with 1004 empty.\n",
      "finished 48000 with 1007 empty.\n",
      "finished 49000 with 1048 empty.\n",
      "finished 50000 with 1096 empty.\n",
      "finished 51000 with 1102 empty.\n",
      "finished 52000 with 1109 empty.\n",
      "finished 53000 with 1113 empty.\n",
      "finished 54000 with 1122 empty.\n",
      "finished 55000 with 1136 empty.\n",
      "finished 56000 with 1141 empty.\n",
      "finished 57000 with 1145 empty.\n",
      "finished 58000 with 1148 empty.\n",
      "finished 59000 with 1153 empty.\n",
      "finished 60000 with 1154 empty.\n",
      "finished 61000 with 1165 empty.\n",
      "finished 62000 with 1170 empty.\n",
      "finished 63000 with 1176 empty.\n",
      "finished 64000 with 1189 empty.\n",
      "finished 65000 with 1207 empty.\n",
      "finished 66000 with 1235 empty.\n",
      "finished 67000 with 1241 empty.\n",
      "finished 68000 with 1248 empty.\n",
      "finished 69000 with 1253 empty.\n",
      "finished 70000 with 1255 empty.\n"
     ]
    }
   ],
   "source": [
    "#r_start = re.compile('\\*\\*\\* START OF THIS PROJECT GUTENBERG EBOOK .*\\*\\*\\*\\W*\\n')\n",
    "r_start = re.compile('\\n\\*\\*\\*.*START OF .* GUTENBERG .*\\n')\n",
    "empty_ct, read_ct = 0, 0\n",
    "all_texts = list()\n",
    "for i, fname in enumerate(fnames[:]):\n",
    "    base = os.path.basename(fname)\n",
    "    textname = os.path.splitext(base)[0] + '.txt'\n",
    "    \n",
    "    with zipfile.ZipFile(fname) as z:\n",
    "        try:\n",
    "            text = z.read(textname).decode(encoding='utf-8', errors='ignore')\n",
    "            text_was_found = True\n",
    "        except KeyError:\n",
    "            text_was_found = False\n",
    "        \n",
    "    match = re.search(r_start, text)\n",
    "    if text_was_found and match is not None:\n",
    "        all_texts.append(text[:match.end()])\n",
    "        read_ct += 1\n",
    "    else:\n",
    "        empty_ct += 1\n",
    "    if read_ct % 1000 == 0:\n",
    "        print(f'finished {read_ct} with {empty_ct} empty.')\n",
    "print(f'finished all with {read_ct} read.')"
   ]
  }
 ],
 "metadata": {
  "kernelspec": {
   "display_name": "Python 3",
   "language": "python",
   "name": "python3"
  },
  "language_info": {
   "codemirror_mode": {
    "name": "ipython",
    "version": 3
   },
   "file_extension": ".py",
   "mimetype": "text/x-python",
   "name": "python",
   "nbconvert_exporter": "python",
   "pygments_lexer": "ipython3",
   "version": "3.6.9"
  }
 },
 "nbformat": 4,
 "nbformat_minor": 4
}

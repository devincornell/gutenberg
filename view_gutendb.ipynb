{
 "cells": [
  {
   "cell_type": "code",
   "execution_count": 1,
   "metadata": {},
   "outputs": [],
   "source": [
    "from gutendocsdb import GutenDocsDB"
   ]
  },
  {
   "cell_type": "code",
   "execution_count": 3,
   "metadata": {},
   "outputs": [
    {
     "data": {
      "text/plain": [
       "<DocTable::gutendocs ct: 38249>"
      ]
     },
     "execution_count": 3,
     "metadata": {},
     "output_type": "execute_result"
    }
   ],
   "source": [
    "db = GutenDocsDB('db/gutenberg_17.db')\n",
    "db"
   ]
  },
  {
   "cell_type": "code",
   "execution_count": 30,
   "metadata": {},
   "outputs": [],
   "source": []
  },
  {
   "cell_type": "code",
   "execution_count": 40,
   "metadata": {},
   "outputs": [
    {
     "name": "stdout",
     "output_type": "stream",
     "text": [
      "..........."
     ]
    },
    {
     "ename": "AttributeError",
     "evalue": "'tuple' object has no attribute 'tok'",
     "output_type": "error",
     "traceback": [
      "\u001b[0;31m---------------------------------------------------------------------------\u001b[0m",
      "\u001b[0;31mAttributeError\u001b[0m                            Traceback (most recent call last)",
      "\u001b[0;32m<ipython-input-40-89e136502352>\u001b[0m in \u001b[0;36m<module>\u001b[0;34m\u001b[0m\n\u001b[1;32m     21\u001b[0m             \u001b[0;32mif\u001b[0m \u001b[0mlen\u001b[0m\u001b[0;34m(\u001b[0m\u001b[0mpairs\u001b[0m\u001b[0;34m)\u001b[0m \u001b[0;34m>\u001b[0m \u001b[0;36m0\u001b[0m\u001b[0;34m:\u001b[0m\u001b[0;34m\u001b[0m\u001b[0;34m\u001b[0m\u001b[0m\n\u001b[1;32m     22\u001b[0m                 \u001b[0;32mfor\u001b[0m \u001b[0mpair\u001b[0m \u001b[0;32min\u001b[0m \u001b[0mpairs\u001b[0m\u001b[0;34m:\u001b[0m\u001b[0;34m\u001b[0m\u001b[0;34m\u001b[0m\u001b[0m\n\u001b[0;32m---> 23\u001b[0;31m                     \u001b[0mprint\u001b[0m\u001b[0;34m(\u001b[0m\u001b[0mpair\u001b[0m\u001b[0;34m.\u001b[0m\u001b[0mtok\u001b[0m\u001b[0;34m)\u001b[0m\u001b[0;34m\u001b[0m\u001b[0;34m\u001b[0m\u001b[0m\n\u001b[0m",
      "\u001b[0;31mAttributeError\u001b[0m: 'tuple' object has no attribute 'tok'"
     ]
    }
   ],
   "source": [
    "def noun_verb_pairs(ptree):\n",
    "    nounverbs = list()\n",
    "    for tok in ptree:\n",
    "        if tok.pos == 'VERB':#  and (tok.tok is 'he' or tok.tok is 'she'):\n",
    "            rel = (child_dep(tok,'nsubj'), tok, child_dep(tok,'dobj'))\n",
    "            #print(rel[0])\n",
    "            if rel[0] is not None and rel[0].tok in ('he', 'she'):\n",
    "                nounverbs.append(rel)\n",
    "    return nounverbs\n",
    "\n",
    "def child_dep(tok, dep): # gets first child where child.dep_==dep.\n",
    "    for c in tok.childs:\n",
    "        if c.dep == dep:\n",
    "            return c\n",
    "    return None\n",
    "for doc in db.select('par_ptrees', limit=500):\n",
    "    print('.', end='')\n",
    "    for par in doc:\n",
    "        for sent in par:\n",
    "            pairs = noun_verb_pairs(sent)\n",
    "            if len(pairs) > 0:\n",
    "                for pair in pairs:\n",
    "                    print(pair.tok)"
   ]
  },
  {
   "cell_type": "code",
   "execution_count": 9,
   "metadata": {},
   "outputs": [
    {
     "name": "stdout",
     "output_type": "stream",
     "text": [
      "All of the original Project Gutenberg Etexts from the\n",
      "1970's were produced in ALL CAPS, no lower case.  The\n",
      "computers we used then didn't have lower case at all.\n",
      "\n",
      "***\n",
      "\n",
      "These original Project Gutenberg Etexts will be compiled into a file\n",
      "containing them all, in order to improve the content ratios of Etext\n",
      "to header material.\n",
      "\n",
      "***\n",
      "\n",
      "The United States Bill of Rights.\n",
      "\n",
      "The Ten Original Amendments to the Constitution of the United States\n",
      "Passed by Congress September 25, 1789\n",
      "Ratified December 15, 1791\n"
     ]
    }
   ],
   "source": [
    "text = db.select_first('text')\n",
    "print(text[:500])"
   ]
  }
 ],
 "metadata": {
  "kernelspec": {
   "display_name": "Python 3",
   "language": "python",
   "name": "python3"
  },
  "language_info": {
   "codemirror_mode": {
    "name": "ipython",
    "version": 3
   },
   "file_extension": ".py",
   "mimetype": "text/x-python",
   "name": "python",
   "nbconvert_exporter": "python",
   "pygments_lexer": "ipython3",
   "version": "3.6.9"
  }
 },
 "nbformat": 4,
 "nbformat_minor": 4
}

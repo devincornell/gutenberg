{
 "cells": [
  {
   "cell_type": "code",
   "execution_count": 1,
   "metadata": {},
   "outputs": [],
   "source": [
    "import json"
   ]
  },
  {
   "cell_type": "code",
   "execution_count": 2,
   "metadata": {},
   "outputs": [],
   "source": [
    "with open('metadata/gutenberg-metadata.json', 'r') as f:\n",
    "    dat = json.load(f)"
   ]
  },
  {
   "cell_type": "code",
   "execution_count": 5,
   "metadata": {},
   "outputs": [
    {
     "data": {
      "text/plain": [
       "59395"
      ]
     },
     "execution_count": 5,
     "metadata": {},
     "output_type": "execute_result"
    }
   ],
   "source": [
    "max(map(int,dat.keys()))"
   ]
  },
  {
   "cell_type": "code",
   "execution_count": 7,
   "metadata": {},
   "outputs": [
    {
     "data": {
      "text/plain": [
       "{'author': ['Collodi, Carlo'],\n",
       " 'formaturi': ['http://www.gutenberg.org/ebooks/500.epub.noimages',\n",
       "  'http://www.gutenberg.org/files/500/500.zip',\n",
       "  'http://www.gutenberg.org/ebooks/500.rdf',\n",
       "  'http://www.gutenberg.org/ebooks/500.kindle.noimages',\n",
       "  'http://www.gutenberg.org/ebooks/500.kindle.images',\n",
       "  'http://www.gutenberg.org/files/500/500-0.zip',\n",
       "  'http://www.gutenberg.org/files/500/500-0.txt',\n",
       "  'http://www.gutenberg.org/files/500/500-h/500-h.htm',\n",
       "  'http://www.gutenberg.org/ebooks/500.epub.images',\n",
       "  'http://www.gutenberg.org/files/500/500-h.zip',\n",
       "  'http://www.gutenberg.org/files/500/500.txt'],\n",
       " 'language': ['en'],\n",
       " 'rights': ['Public domain in the USA.'],\n",
       " 'subject': ['Fairy tales',\n",
       "  'Puppets -- Juvenile fiction',\n",
       "  'PZ',\n",
       "  'PQ',\n",
       "  'Pinocchio (Fictitious character) -- Juvenile fiction'],\n",
       " 'title': ['The Adventures of Pinocchio']}"
      ]
     },
     "execution_count": 7,
     "metadata": {},
     "output_type": "execute_result"
    }
   ],
   "source": [
    "dat['500']"
   ]
  }
 ],
 "metadata": {
  "kernelspec": {
   "display_name": "Python 3",
   "language": "python",
   "name": "python3"
  },
  "language_info": {
   "codemirror_mode": {
    "name": "ipython",
    "version": 3
   },
   "file_extension": ".py",
   "mimetype": "text/x-python",
   "name": "python",
   "nbconvert_exporter": "python",
   "pygments_lexer": "ipython3",
   "version": "3.6.9"
  }
 },
 "nbformat": 4,
 "nbformat_minor": 4
}

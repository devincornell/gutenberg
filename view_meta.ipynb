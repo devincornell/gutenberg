{
 "cells": [
  {
   "cell_type": "code",
   "execution_count": 8,
   "metadata": {},
   "outputs": [],
   "source": [
    "from gutendocdb import GutenDocDB\n",
    "from collections import Counter"
   ]
  },
  {
   "cell_type": "code",
   "execution_count": 2,
   "metadata": {},
   "outputs": [
    {
     "name": "stdout",
     "output_type": "stream",
     "text": [
      "<DocTable::gutendocs ct: 59486>\n"
     ]
    }
   ],
   "source": [
    "db = GutenDocDB('db/gutenberg_19.db')\n",
    "print(db)"
   ]
  },
  {
   "cell_type": "code",
   "execution_count": 10,
   "metadata": {},
   "outputs": [
    {
     "data": {
      "text/html": [
       "<div>\n",
       "<style scoped>\n",
       "    .dataframe tbody tr th:only-of-type {\n",
       "        vertical-align: middle;\n",
       "    }\n",
       "\n",
       "    .dataframe tbody tr th {\n",
       "        vertical-align: top;\n",
       "    }\n",
       "\n",
       "    .dataframe thead th {\n",
       "        text-align: right;\n",
       "    }\n",
       "</style>\n",
       "<table border=\"1\" class=\"dataframe\">\n",
       "  <thead>\n",
       "    <tr style=\"text-align: right;\">\n",
       "      <th></th>\n",
       "      <th>id</th>\n",
       "      <th>gutenid</th>\n",
       "      <th>title</th>\n",
       "      <th>author</th>\n",
       "      <th>formaturi</th>\n",
       "      <th>language</th>\n",
       "      <th>rights</th>\n",
       "      <th>subject</th>\n",
       "      <th>num_pars</th>\n",
       "      <th>num_sents</th>\n",
       "      <th>num_toks</th>\n",
       "      <th>par_ptrees</th>\n",
       "      <th>par_toks</th>\n",
       "      <th>text</th>\n",
       "    </tr>\n",
       "  </thead>\n",
       "  <tbody>\n",
       "    <tr>\n",
       "      <td>0</td>\n",
       "      <td>2</td>\n",
       "      <td>1</td>\n",
       "      <td>The Declaration of Independence of the United ...</td>\n",
       "      <td>Jefferson, Thomas</td>\n",
       "      <td>http://www.gutenberg.org/ebooks/1.txt.utf-8\\nh...</td>\n",
       "      <td>en</td>\n",
       "      <td>Public domain in the USA.</td>\n",
       "      <td>United States -- History -- Revolution, 1775-1...</td>\n",
       "      <td>None</td>\n",
       "      <td>None</td>\n",
       "      <td>None</td>\n",
       "      <td>None</td>\n",
       "      <td>None</td>\n",
       "      <td>None</td>\n",
       "    </tr>\n",
       "  </tbody>\n",
       "</table>\n",
       "</div>"
      ],
      "text/plain": [
       "   id  gutenid                                              title  \\\n",
       "0   2        1  The Declaration of Independence of the United ...   \n",
       "\n",
       "              author                                          formaturi  \\\n",
       "0  Jefferson, Thomas  http://www.gutenberg.org/ebooks/1.txt.utf-8\\nh...   \n",
       "\n",
       "  language                     rights  \\\n",
       "0       en  Public domain in the USA.   \n",
       "\n",
       "                                             subject num_pars num_sents  \\\n",
       "0  United States -- History -- Revolution, 1775-1...     None      None   \n",
       "\n",
       "  num_toks par_ptrees par_toks  text  \n",
       "0     None       None     None  None  "
      ]
     },
     "execution_count": 10,
     "metadata": {},
     "output_type": "execute_result"
    }
   ],
   "source": [
    "db.select_df(limit=1)"
   ]
  },
  {
   "cell_type": "code",
   "execution_count": 14,
   "metadata": {},
   "outputs": [
    {
     "data": {
      "text/plain": [
       "['http://www.gutenberg.org/ebooks/1.txt.utf-8',\n",
       " 'http://www.gutenberg.org/files/1/1-0.zip',\n",
       " 'http://www.gutenberg.org/files/1/1-h/1-h.htm',\n",
       " 'http://www.gutenberg.org/ebooks/1.kindle.images',\n",
       " 'http://www.gutenberg.org/files/1/1-0.txt',\n",
       " 'http://www.gutenberg.org/ebooks/1.rdf',\n",
       " 'http://www.gutenberg.org/files/1/1-h.zip',\n",
       " 'http://www.gutenberg.org/ebooks/1.epub.images',\n",
       " 'http://www.gutenberg.org/ebooks/1.epub.noimages',\n",
       " 'http://www.gutenberg.org/ebooks/1.kindle.noimages']"
      ]
     },
     "execution_count": 14,
     "metadata": {},
     "output_type": "execute_result"
    }
   ],
   "source": [
    "db.select_first('formaturi').split('\\n')"
   ]
  },
  {
   "cell_type": "code",
   "execution_count": 6,
   "metadata": {},
   "outputs": [
    {
     "data": {
      "text/plain": [
       "[Column('id', Integer(), table=<gutendocs>, primary_key=True, nullable=False),\n",
       " Column('gutenid', Integer(), table=<gutendocs>),\n",
       " Column('title', String(), table=<gutendocs>),\n",
       " Column('author', String(), table=<gutendocs>),\n",
       " Column('formaturi', String(), table=<gutendocs>),\n",
       " Column('language', String(), table=<gutendocs>),\n",
       " Column('rights', String(), table=<gutendocs>),\n",
       " Column('subject', String(), table=<gutendocs>),\n",
       " Column('num_pars', Integer(), table=<gutendocs>),\n",
       " Column('num_sents', Integer(), table=<gutendocs>),\n",
       " Column('num_toks', Integer(), table=<gutendocs>),\n",
       " Column('par_ptrees', PickleFileType(), table=<gutendocs>),\n",
       " Column('par_toks', PickleFileType(), table=<gutendocs>),\n",
       " Column('text', TextFileType(), table=<gutendocs>)]"
      ]
     },
     "execution_count": 6,
     "metadata": {},
     "output_type": "execute_result"
    }
   ],
   "source": [
    "[c for c in db.columns]"
   ]
  },
  {
   "cell_type": "code",
   "execution_count": 15,
   "metadata": {},
   "outputs": [
    {
     "data": {
      "text/plain": [
       "Counter({'en': 48215,\n",
       "         'la': 88,\n",
       "         'es': 625,\n",
       "         'en\\nde': 17,\n",
       "         'la\\nde': 1,\n",
       "         'fr': 2970,\n",
       "         'it': 798,\n",
       "         'ja': 22,\n",
       "         'de': 1762,\n",
       "         'zh\\nen': 7,\n",
       "         'sv': 199,\n",
       "         'da': 68,\n",
       "         'cy': 10,\n",
       "         'bg': 5,\n",
       "         'fr\\nen': 21,\n",
       "         'pt': 548,\n",
       "         'nl': 789,\n",
       "         'de\\nen': 15,\n",
       "         'el': 214,\n",
       "         'zh': 403,\n",
       "         'he': 6,\n",
       "         'es\\nen': 16,\n",
       "         'ru': 9,\n",
       "         'hu\\nen': 1,\n",
       "         'ko\\nen': 1,\n",
       "         'pl': 29,\n",
       "         'fi': 2072,\n",
       "         'la\\nen': 27,\n",
       "         'eo\\nen': 19,\n",
       "         'enm\\nen': 3,\n",
       "         'eo': 97,\n",
       "         'sv\\nen': 1,\n",
       "         'sa': 1,\n",
       "         'ang\\nen': 3,\n",
       "         'cy\\nen': 3,\n",
       "         'ale\\nen': 1,\n",
       "         'yi': 1,\n",
       "         'lt': 1,\n",
       "         'nai\\nes': 1,\n",
       "         'sr': 4,\n",
       "         'no': 20,\n",
       "         'ca\\nde': 1,\n",
       "         'ro': 2,\n",
       "         'nah\\nen': 2,\n",
       "         'en\\nkha': 1,\n",
       "         'cs': 10,\n",
       "         'tl': 57,\n",
       "         'it\\nen': 3,\n",
       "         'ca': 32,\n",
       "         'is': 7,\n",
       "         'fr\\nde': 1,\n",
       "         'myn': 1,\n",
       "         'fr\\nnai': 1,\n",
       "         'es\\ntl': 1,\n",
       "         'ilo': 2,\n",
       "         'ia': 1,\n",
       "         'es\\nen\\ntl': 1,\n",
       "         'ga': 2,\n",
       "         'ilo\\nes': 1,\n",
       "         'fur': 6,\n",
       "         'af': 4,\n",
       "         'kld\\nen': 1,\n",
       "         'enm': 3,\n",
       "         'oc': 1,\n",
       "         'fr\\nit': 1,\n",
       "         'nap': 1,\n",
       "         'hu': 182,\n",
       "         'la\\nnl': 2,\n",
       "         'fy': 3,\n",
       "         'fr\\nla': 4,\n",
       "         'tl\\nes\\nen': 1,\n",
       "         'en\\nmyn': 1,\n",
       "         'ceb': 2,\n",
       "         'gl': 2,\n",
       "         'nah': 1,\n",
       "         'mi': 1,\n",
       "         'nav\\nen': 3,\n",
       "         'br': 1,\n",
       "         'arp': 2,\n",
       "         'eo\\ncs': 1,\n",
       "         'fr\\nes\\nen': 2,\n",
       "         'iu': 1,\n",
       "         'es\\nbgs': 1,\n",
       "         'fr\\npl': 1,\n",
       "         'pl\\ncsb': 1,\n",
       "         'pt\\nen': 1,\n",
       "         'gla': 2,\n",
       "         'da\\nen': 1,\n",
       "         'rmr': 1,\n",
       "         'fr\\nel': 1,\n",
       "         'la\\nel': 2,\n",
       "         'nai\\nen': 1,\n",
       "         'fr\\npt': 1,\n",
       "         'fur\\nde': 1,\n",
       "         'sl': 1,\n",
       "         'nl\\nde': 1,\n",
       "         'te': 6,\n",
       "         'oji': 1,\n",
       "         'el\\nen': 1,\n",
       "         'fr\\nnl': 2,\n",
       "         'ceb\\nen': 1,\n",
       "         'grc\\nen': 3,\n",
       "         'mi\\nen': 1,\n",
       "         'ar': 1,\n",
       "         'et': 1,\n",
       "         'ang\\nde': 1,\n",
       "         'fa': 1,\n",
       "         'brx\\nen': 2,\n",
       "         'eo\\nde': 1,\n",
       "         'fr\\nes\\nmyn': 1,\n",
       "         'ga\\nen': 1,\n",
       "         '': 1})"
      ]
     },
     "execution_count": 15,
     "metadata": {},
     "output_type": "execute_result"
    }
   ],
   "source": [
    "Counter(db.select('language'))"
   ]
  }
 ],
 "metadata": {
  "kernelspec": {
   "display_name": "Python 3",
   "language": "python",
   "name": "python3"
  },
  "language_info": {
   "codemirror_mode": {
    "name": "ipython",
    "version": 3
   },
   "file_extension": ".py",
   "mimetype": "text/x-python",
   "name": "python",
   "nbconvert_exporter": "python",
   "pygments_lexer": "ipython3",
   "version": "3.6.9"
  }
 },
 "nbformat": 4,
 "nbformat_minor": 4
}
